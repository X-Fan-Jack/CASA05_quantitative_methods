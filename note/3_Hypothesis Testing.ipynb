{
 "cells": [
  {
   "cell_type": "markdown",
   "metadata": {},
   "source": [
    "# Hypothesis Testing \n",
    "This document contains personal understanding. If there is a fallacy, please let me know.\n",
    "\n",
    "**Update any time**"
   ]
  },
  {
   "cell_type": "markdown",
   "metadata": {},
   "source": [
    "## Definition\n",
    "\n",
    "**Wiki**: \n",
    "\n",
    "A statistical hypothesis test is a method of statistical inference used to decide whether the data at hand sufficiently support a particular hypothesis. \n",
    "\n",
    "**Personal understanding**: \n",
    "\n",
    "Hypothesis testing is a method of verifying whether a hypothesis is reliable.\n",
    "\n",
    "In the hypothesis test, the calculated p-value is used against the significance level α. If **p < α**, then **H0 is rejected**.\n",
    "\n",
    "\n",
    "\n",
    "\n",
    "#### Method\n",
    "\n",
    "1. Make the H0\n",
    "1. Define the significance level - α\n",
    "1. Calculate the p-value\n",
    "1. Compare p with α: H0 = FLASE **if** p<α **else** H0 = TRUE\n",
    "\n",
    "\n"
   ]
  },
  {
   "cell_type": "markdown",
   "metadata": {},
   "source": [
    "## Python \n",
    "\n",
    "This is an example based on the tutor."
   ]
  },
  {
   "cell_type": "code",
   "execution_count": 2,
   "metadata": {},
   "outputs": [],
   "source": [
    "# import relevant packages\n",
    "import numpy as np\n",
    "import scipy.stats as sps\n",
    "import pandas as pd\n",
    "import matplotlib.pyplot as plt\n",
    "\n",
    "%matplotlib inline\n",
    "\n",
    "\n",
    "# Get the data on the weights of 4-year-olds:\n",
    "data = pd.read_csv('https://github.com/huanfachen/QM_2021/raw/main/data/toddler_data.csv')[['sample_1','sample_2']]\n",
    "\n",
    "# Look at the first few rows:\n",
    "data.head()"
   ]
  },
  {
   "cell_type": "markdown",
   "metadata": {},
   "source": [
    "#### Step 1\n",
    "Make the H0\n",
    "\n",
    "H0: Mean of population 1 =  Mean of population 1\n",
    "\n",
    "H1: Mean of population 1 <> Mean of population 1"
   ]
  },
  {
   "cell_type": "markdown",
   "metadata": {},
   "source": [
    "#### Step 2\n",
    "\n",
    "Set significance level:"
   ]
  },
  {
   "cell_type": "code",
   "execution_count": 3,
   "metadata": {},
   "outputs": [],
   "source": [
    "# Set significance level:\n",
    "\n",
    "alpha = 0.05"
   ]
  },
  {
   "cell_type": "markdown",
   "metadata": {},
   "source": [
    "#### Step 3\n",
    "\n",
    "Calculate the p-value"
   ]
  },
  {
   "cell_type": "code",
   "execution_count": 4,
   "metadata": {},
   "outputs": [
    {
     "name": "stdout",
     "output_type": "stream",
     "text": [
      "std_ratio = 0.9720359813764003\n",
      "Can assume equal population standard deviations.\n",
      "p-value = 0.04479005662769824\n"
     ]
    }
   ],
   "source": [
    "# Store each sample separately:\n",
    "data1 = data['sample_1']\n",
    "data2 = data['sample_2']\n",
    "\n",
    "# There is a built-in scipy.stats function (ttest_ind) that does steps 3 and 4 for us.\n",
    "# We just need to know whether we can assume that the samples are drawn...\n",
    "# ... from populations with the same standard deviation or not.\n",
    "# (Provided neither standard deviation is double the other, this should be ok)\n",
    "\n",
    "std_ratio = data1.std()/data2.std()\n",
    "\n",
    "print(\"std_ratio =\", std_ratio)\n",
    "\n",
    "if std_ratio > 0.5 and std_ratio < 2:\n",
    "    print(\"Can assume equal population standard deviations.\")\n",
    "    equal_stds = True\n",
    "else:\n",
    "    print(\"Cannot assume equal population standard deviations.\")\n",
    "    equal_stds = False\n",
    "\n",
    "\n",
    "# Calculate the test statistic and the p-value:\n",
    "# There are two outputs from the function of sps.ttest_ind: the **test statistic** and the **p value**\n",
    "test_stat, p_value = sps.ttest_ind(data1, data2, equal_var = equal_stds)\n",
    "print(\"p-value =\", p_value)"
   ]
  },
  {
   "cell_type": "markdown",
   "metadata": {},
   "source": [
    "#### Step 4\n",
    "\n",
    "Make the comparation."
   ]
  },
  {
   "cell_type": "code",
   "execution_count": 5,
   "metadata": {},
   "outputs": [
    {
     "name": "stdout",
     "output_type": "stream",
     "text": [
      "p-value < significance threshold.\n",
      "Reject H0. Accept H1.\n",
      "Conclude that samples are drawn from populations with different means.\n"
     ]
    }
   ],
   "source": [
    "# Reach a conclusion:\n",
    "\n",
    "if p_value < alpha:\n",
    "    print(\"p-value < significance threshold.\")\n",
    "    print(\"Reject H0. Accept H1.\")\n",
    "    print(\"Conclude that samples are drawn from populations with different means.\")\n",
    "elif p_value >= alpha:\n",
    "    print(\"p-value >= significance threshold.\")\n",
    "    print(\"No significant evidence to reject H0.\")\n",
    "    print(\"Assume samples are drawn from populations with the same mean.\")"
   ]
  }
 ],
 "metadata": {
  "kernelspec": {
   "display_name": "Python 3.9.13 ('base')",
   "language": "python",
   "name": "python3"
  },
  "language_info": {
   "codemirror_mode": {
    "name": "ipython",
    "version": 3
   },
   "file_extension": ".py",
   "mimetype": "text/x-python",
   "name": "python",
   "nbconvert_exporter": "python",
   "pygments_lexer": "ipython3",
   "version": "3.9.13"
  },
  "orig_nbformat": 4,
  "vscode": {
   "interpreter": {
    "hash": "49cb93f377a7abe7414b7b0f21fb3017538004a126cf690fb524202736b7fb92"
   }
  }
 },
 "nbformat": 4,
 "nbformat_minor": 2
}
