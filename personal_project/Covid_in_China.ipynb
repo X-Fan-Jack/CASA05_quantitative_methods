{
 "cells": [
  {
   "cell_type": "code",
   "execution_count": 150,
   "id": "2dc8db97",
   "metadata": {},
   "outputs": [],
   "source": [
    "# coding=utf-8\n",
    "# This is a sample Python script.\n",
    "from __future__ import division\n",
    "import numpy as np\n",
    "import matplotlib.pyplot as plt\n",
    "from tqdm import tqdm\n",
    "import scipy.integrate as spi\n",
    "import time\n",
    "import pandas as pd\n",
    "from sklearn.linear_model import LinearRegression"
   ]
  },
  {
   "cell_type": "code",
   "execution_count": 151,
   "id": "8825391f",
   "metadata": {},
   "outputs": [],
   "source": [
    "np.set_printoptions(suppress=True)"
   ]
  },
  {
   "attachments": {},
   "cell_type": "markdown",
   "id": "c807133c",
   "metadata": {},
   "source": [
    "##  Capability of healthcare system"
   ]
  },
  {
   "cell_type": "code",
   "execution_count": 152,
   "id": "e4716c81",
   "metadata": {},
   "outputs": [],
   "source": [
    "# Define the xy\n",
    "\n",
    "# year\n",
    "x = np.array([2018, 2019, 2020, 2021]).reshape((-1, 1)).astype(int)\n",
    "\n",
    "# the number of beds N\n",
    "y_N = np.array([8404078, 8806956, 9100700, 9448448])\n",
    "# bed utilization rate R\n",
    "y_R = np.array([84.2, 83.6, 72.3, 74.6])\n",
    "# the average number of days a patient stays D \n",
    "y_D = np.array([9.3, 9.1, 9.5, 9.2])"
   ]
  },
  {
   "cell_type": "code",
   "execution_count": 153,
   "id": "be409a45",
   "metadata": {},
   "outputs": [],
   "source": [
    "def predict_Y(x,y,x_pre):\n",
    "    model = LinearRegression()\n",
    "    model.fit(x, y)\n",
    "    print(model.score(x, y))\n",
    "    x_pre = np.array([x_pre]).reshape((-1, 1))\n",
    "    return model.predict(x_pre)[0]"
   ]
  },
  {
   "cell_type": "code",
   "execution_count": 154,
   "id": "61d8ef36",
   "metadata": {},
   "outputs": [
    {
     "name": "stdout",
     "output_type": "stream",
     "text": [
      "0.9964522614628124\n"
     ]
    },
    {
     "data": {
      "text/plain": [
       "9796759.0"
      ]
     },
     "execution_count": 154,
     "metadata": {},
     "output_type": "execute_result"
    }
   ],
   "source": [
    "# predict the number of beds N in 2022\n",
    "N_2022 = predict_Y(x,y_N,2022)\n",
    "N_2022"
   ]
  },
  {
   "cell_type": "code",
   "execution_count": 155,
   "id": "30bd6047",
   "metadata": {},
   "outputs": [
    {
     "name": "stdout",
     "output_type": "stream",
     "text": [
      "0.7176853897480848\n"
     ]
    },
    {
     "data": {
      "text/plain": [
       "68.65000000000055"
      ]
     },
     "execution_count": 155,
     "metadata": {},
     "output_type": "execute_result"
    }
   ],
   "source": [
    "# predict bed utilization rate R in 2022\n",
    "R_2022 = predict_Y(x,y_R,2022)\n",
    "R_2022"
   ]
  },
  {
   "cell_type": "code",
   "execution_count": 156,
   "id": "8e33cab5",
   "metadata": {},
   "outputs": [
    {
     "name": "stdout",
     "output_type": "stream",
     "text": [
      "0.005714285714274903\n"
     ]
    },
    {
     "data": {
      "text/plain": [
       "9.299999999999997"
      ]
     },
     "execution_count": 156,
     "metadata": {},
     "output_type": "execute_result"
    }
   ],
   "source": [
    "# predict the average number of days a patient stays D in 2022\n",
    "D_2022 = predict_Y(x,y_D,2022)\n",
    "D_2022"
   ]
  },
  {
   "cell_type": "code",
   "execution_count": 157,
   "id": "bd4221e6",
   "metadata": {},
   "outputs": [
    {
     "data": {
      "text/plain": [
       "49536837.84677334"
      ]
     },
     "execution_count": 157,
     "metadata": {},
     "output_type": "execute_result"
    }
   ],
   "source": [
    "# (1-R)*T/D*N\n",
    "days = 150\n",
    "(1-R_2022*0.01)*days/D_2022*N_2022"
   ]
  },
  {
   "attachments": {},
   "cell_type": "markdown",
   "id": "c22f7de9",
   "metadata": {},
   "source": [
    "## COVID-19 infection model based on SEIR model"
   ]
  },
  {
   "cell_type": "code",
   "execution_count": 158,
   "id": "dd94764d",
   "metadata": {},
   "outputs": [],
   "source": [
    "# N为人群总数\n",
    "N = 1410000000\n",
    "# β为传染率\n",
    "beta = 0.56\n",
    "# C为日社交人数\n",
    "c = 1\n",
    "# gamma为恢复率系数\n",
    "gamma = 1/28\n",
    "# Te为疾病潜伏期\n",
    "Te = 7\n",
    "# I_0为感染者的初始人数\n",
    "I_0 = 547\n",
    "# E_0为潜伏者的初始人数\n",
    "E_0 = 0\n",
    "# R_0为治愈者的初始人数\n",
    "R_0 = 0\n",
    "# S_0为易感者的初始人数\n",
    "S_0 = N - I_0 - E_0 - R_0\n",
    "# T为传播时间\n",
    "T = 150\n",
    "# INI为初始状态下的数组\n",
    "INI = (S_0,E_0,I_0,R_0)"
   ]
  },
  {
   "cell_type": "code",
   "execution_count": 159,
   "id": "c272a810",
   "metadata": {},
   "outputs": [],
   "source": [
    "def funcSEIR_C(inivalue,_):\n",
    " Y = np.zeros(4)\n",
    " X = inivalue\n",
    " # 易感个体变化\n",
    " Y[0] = - (c * beta * X[0] *(X[2]+X[1])) / N\n",
    " # 潜伏个体变化\n",
    " Y[1] = (c * beta * X[0] *( X[2]+X[1])) / N - X[1] / Te\n",
    " # 感染个体变化\n",
    " Y[2] = X[1] / Te - gamma * X[2]\n",
    " # 治愈个体变化\n",
    " Y[3] = gamma * X[2]\n",
    " return Y"
   ]
  },
  {
   "cell_type": "code",
   "execution_count": 160,
   "id": "11e57193",
   "metadata": {},
   "outputs": [],
   "source": [
    "# do the simulation\n",
    "T_range = np.arange(0,T + 1)\n",
    "\n",
    "# RES = spi.odeint(funcSEIR,INI,T_range)\n",
    "RES_C = spi.odeint(funcSEIR_C,INI,T_range)"
   ]
  },
  {
   "cell_type": "code",
   "execution_count": 161,
   "id": "fd73ce45",
   "metadata": {},
   "outputs": [
    {
     "data": {
      "image/png": "[encoded data removed]",
      "text/plain": [
       "<Figure size 640x480 with 1 Axes>"
      ]
     },
     "metadata": {},
     "output_type": "display_data"
    }
   ],
   "source": [
    "# plot the result\n",
    "plt.plot(RES_C[:,0],color = 'darkblue',label = 'Susceptible',marker = '.')\n",
    "plt.plot(RES_C[:,1],color = 'orange',label = 'Exposed',marker = '.')\n",
    "plt.plot(RES_C[:,2],color = 'red',label = 'Infection',marker = '.')\n",
    "plt.plot(RES_C[:,3],color = 'green',label = 'Recovery',marker = '.')\n",
    "\n",
    "plt.title('SEIR Model in 150 days')\n",
    "plt.legend()\n",
    "plt.xlabel('Day')\n",
    "plt.ylabel('Number')\n",
    "plt.show()"
   ]
  },
  {
   "cell_type": "code",
   "execution_count": 162,
   "id": "59074c34",
   "metadata": {},
   "outputs": [
    {
     "data": {
      "text/plain": [
       "862158600.0811887"
      ]
     },
     "execution_count": 162,
     "metadata": {},
     "output_type": "execute_result"
    }
   ],
   "source": [
    "RES_C.max(axis=0)[2]"
   ]
  },
  {
   "cell_type": "code",
   "execution_count": 163,
   "id": "1d632b38",
   "metadata": {},
   "outputs": [
    {
     "data": {
      "text/plain": [
       "array([[41,  2]], dtype=int64)"
      ]
     },
     "execution_count": 163,
     "metadata": {},
     "output_type": "execute_result"
    }
   ],
   "source": [
    "np.argwhere(RES_C == RES_C.max(axis=0)[2])"
   ]
  },
  {
   "cell_type": "code",
   "execution_count": 171,
   "id": "b6d13051",
   "metadata": {},
   "outputs": [
    {
     "data": {
      "text/plain": [
       "99148239.0"
      ]
     },
     "execution_count": 171,
     "metadata": {},
     "output_type": "execute_result"
    }
   ],
   "source": [
    "862158600*0.115"
   ]
  },
  {
   "cell_type": "code",
   "execution_count": 172,
   "id": "83d5ede9",
   "metadata": {},
   "outputs": [
    {
     "data": {
      "text/plain": [
       "2.0015052030571674"
      ]
     },
     "execution_count": 172,
     "metadata": {},
     "output_type": "execute_result"
    }
   ],
   "source": [
    "99148239/49536838"
   ]
  },
  {
   "attachments": {},
   "cell_type": "markdown",
   "id": "2fb7421f",
   "metadata": {},
   "source": [
    "## China covid cases number\n",
    "\n",
    "data source:https://ourworldindata.org/coronavirus/country/china"
   ]
  },
  {
   "cell_type": "code",
   "execution_count": 165,
   "id": "0e4d88a7",
   "metadata": {},
   "outputs": [
    {
     "data": {
      "text/html": [
       "<div>\n",
       "<style scoped>\n",
       "    .dataframe tbody tr th:only-of-type {\n",
       "        vertical-align: middle;\n",
       "    }\n",
       "\n",
       "    .dataframe tbody tr th {\n",
       "        vertical-align: top;\n",
       "    }\n",
       "\n",
       "    .dataframe thead th {\n",
       "        text-align: right;\n",
       "    }\n",
       "</style>\n",
       "<table border=\"1\" class=\"dataframe\">\n",
       "  <thead>\n",
       "    <tr style=\"text-align: right;\">\n",
       "      <th></th>\n",
       "      <th>iso_code</th>\n",
       "      <th>continent</th>\n",
       "      <th>location</th>\n",
       "      <th>date</th>\n",
       "      <th>total_cases</th>\n",
       "      <th>new_cases</th>\n",
       "      <th>new_cases_smoothed</th>\n",
       "      <th>total_deaths</th>\n",
       "      <th>new_deaths</th>\n",
       "      <th>new_deaths_smoothed</th>\n",
       "      <th>...</th>\n",
       "      <th>male_smokers</th>\n",
       "      <th>handwashing_facilities</th>\n",
       "      <th>hospital_beds_per_thousand</th>\n",
       "      <th>life_expectancy</th>\n",
       "      <th>human_development_index</th>\n",
       "      <th>population</th>\n",
       "      <th>excess_mortality_cumulative_absolute</th>\n",
       "      <th>excess_mortality_cumulative</th>\n",
       "      <th>excess_mortality</th>\n",
       "      <th>excess_mortality_cumulative_per_million</th>\n",
       "    </tr>\n",
       "  </thead>\n",
       "  <tbody>\n",
       "    <tr>\n",
       "      <th>0</th>\n",
       "      <td>AFG</td>\n",
       "      <td>Asia</td>\n",
       "      <td>Afghanistan</td>\n",
       "      <td>2020-02-24</td>\n",
       "      <td>5.0</td>\n",
       "      <td>5.0</td>\n",
       "      <td>NaN</td>\n",
       "      <td>NaN</td>\n",
       "      <td>NaN</td>\n",
       "      <td>NaN</td>\n",
       "      <td>...</td>\n",
       "      <td>NaN</td>\n",
       "      <td>37.746</td>\n",
       "      <td>0.5</td>\n",
       "      <td>64.83</td>\n",
       "      <td>0.511</td>\n",
       "      <td>41128772.0</td>\n",
       "      <td>NaN</td>\n",
       "      <td>NaN</td>\n",
       "      <td>NaN</td>\n",
       "      <td>NaN</td>\n",
       "    </tr>\n",
       "    <tr>\n",
       "      <th>1</th>\n",
       "      <td>AFG</td>\n",
       "      <td>Asia</td>\n",
       "      <td>Afghanistan</td>\n",
       "      <td>2020-02-25</td>\n",
       "      <td>5.0</td>\n",
       "      <td>0.0</td>\n",
       "      <td>NaN</td>\n",
       "      <td>NaN</td>\n",
       "      <td>NaN</td>\n",
       "      <td>NaN</td>\n",
       "      <td>...</td>\n",
       "      <td>NaN</td>\n",
       "      <td>37.746</td>\n",
       "      <td>0.5</td>\n",
       "      <td>64.83</td>\n",
       "      <td>0.511</td>\n",
       "      <td>41128772.0</td>\n",
       "      <td>NaN</td>\n",
       "      <td>NaN</td>\n",
       "      <td>NaN</td>\n",
       "      <td>NaN</td>\n",
       "    </tr>\n",
       "    <tr>\n",
       "      <th>2</th>\n",
       "      <td>AFG</td>\n",
       "      <td>Asia</td>\n",
       "      <td>Afghanistan</td>\n",
       "      <td>2020-02-26</td>\n",
       "      <td>5.0</td>\n",
       "      <td>0.0</td>\n",
       "      <td>NaN</td>\n",
       "      <td>NaN</td>\n",
       "      <td>NaN</td>\n",
       "      <td>NaN</td>\n",
       "      <td>...</td>\n",
       "      <td>NaN</td>\n",
       "      <td>37.746</td>\n",
       "      <td>0.5</td>\n",
       "      <td>64.83</td>\n",
       "      <td>0.511</td>\n",
       "      <td>41128772.0</td>\n",
       "      <td>NaN</td>\n",
       "      <td>NaN</td>\n",
       "      <td>NaN</td>\n",
       "      <td>NaN</td>\n",
       "    </tr>\n",
       "    <tr>\n",
       "      <th>3</th>\n",
       "      <td>AFG</td>\n",
       "      <td>Asia</td>\n",
       "      <td>Afghanistan</td>\n",
       "      <td>2020-02-27</td>\n",
       "      <td>5.0</td>\n",
       "      <td>0.0</td>\n",
       "      <td>NaN</td>\n",
       "      <td>NaN</td>\n",
       "      <td>NaN</td>\n",
       "      <td>NaN</td>\n",
       "      <td>...</td>\n",
       "      <td>NaN</td>\n",
       "      <td>37.746</td>\n",
       "      <td>0.5</td>\n",
       "      <td>64.83</td>\n",
       "      <td>0.511</td>\n",
       "      <td>41128772.0</td>\n",
       "      <td>NaN</td>\n",
       "      <td>NaN</td>\n",
       "      <td>NaN</td>\n",
       "      <td>NaN</td>\n",
       "    </tr>\n",
       "    <tr>\n",
       "      <th>4</th>\n",
       "      <td>AFG</td>\n",
       "      <td>Asia</td>\n",
       "      <td>Afghanistan</td>\n",
       "      <td>2020-02-28</td>\n",
       "      <td>5.0</td>\n",
       "      <td>0.0</td>\n",
       "      <td>NaN</td>\n",
       "      <td>NaN</td>\n",
       "      <td>NaN</td>\n",
       "      <td>NaN</td>\n",
       "      <td>...</td>\n",
       "      <td>NaN</td>\n",
       "      <td>37.746</td>\n",
       "      <td>0.5</td>\n",
       "      <td>64.83</td>\n",
       "      <td>0.511</td>\n",
       "      <td>41128772.0</td>\n",
       "      <td>NaN</td>\n",
       "      <td>NaN</td>\n",
       "      <td>NaN</td>\n",
       "      <td>NaN</td>\n",
       "    </tr>\n",
       "  </tbody>\n",
       "</table>\n",
       "<p>5 rows × 67 columns</p>\n",
       "</div>"
      ],
      "text/plain": [
       "  iso_code continent     location        date  total_cases  new_cases  \\\n",
       "0      AFG      Asia  Afghanistan  2020-02-24          5.0        5.0   \n",
       "1      AFG      Asia  Afghanistan  2020-02-25          5.0        0.0   \n",
       "2      AFG      Asia  Afghanistan  2020-02-26          5.0        0.0   \n",
       "3      AFG      Asia  Afghanistan  2020-02-27          5.0        0.0   \n",
       "4      AFG      Asia  Afghanistan  2020-02-28          5.0        0.0   \n",
       "\n",
       "   new_cases_smoothed  total_deaths  new_deaths  new_deaths_smoothed  ...  \\\n",
       "0                 NaN           NaN         NaN                  NaN  ...   \n",
       "1                 NaN           NaN         NaN                  NaN  ...   \n",
       "2                 NaN           NaN         NaN                  NaN  ...   \n",
       "3                 NaN           NaN         NaN                  NaN  ...   \n",
       "4                 NaN           NaN         NaN                  NaN  ...   \n",
       "\n",
       "   male_smokers  handwashing_facilities  hospital_beds_per_thousand  \\\n",
       "0           NaN                  37.746                         0.5   \n",
       "1           NaN                  37.746                         0.5   \n",
       "2           NaN                  37.746                         0.5   \n",
       "3           NaN                  37.746                         0.5   \n",
       "4           NaN                  37.746                         0.5   \n",
       "\n",
       "   life_expectancy  human_development_index  population  \\\n",
       "0            64.83                    0.511  41128772.0   \n",
       "1            64.83                    0.511  41128772.0   \n",
       "2            64.83                    0.511  41128772.0   \n",
       "3            64.83                    0.511  41128772.0   \n",
       "4            64.83                    0.511  41128772.0   \n",
       "\n",
       "   excess_mortality_cumulative_absolute  excess_mortality_cumulative  \\\n",
       "0                                   NaN                          NaN   \n",
       "1                                   NaN                          NaN   \n",
       "2                                   NaN                          NaN   \n",
       "3                                   NaN                          NaN   \n",
       "4                                   NaN                          NaN   \n",
       "\n",
       "   excess_mortality  excess_mortality_cumulative_per_million  \n",
       "0               NaN                                      NaN  \n",
       "1               NaN                                      NaN  \n",
       "2               NaN                                      NaN  \n",
       "3               NaN                                      NaN  \n",
       "4               NaN                                      NaN  \n",
       "\n",
       "[5 rows x 67 columns]"
      ]
     },
     "execution_count": 165,
     "metadata": {},
     "output_type": "execute_result"
    }
   ],
   "source": [
    "csv = pd.read_csv(\"./data_csv/owid-covid-data.csv\")\n",
    "# csv.info()\n",
    "csv.head()"
   ]
  },
  {
   "cell_type": "code",
   "execution_count": 166,
   "id": "3ff3efc8",
   "metadata": {},
   "outputs": [
    {
     "data": {
      "text/html": [
       "<div>\n",
       "<style scoped>\n",
       "    .dataframe tbody tr th:only-of-type {\n",
       "        vertical-align: middle;\n",
       "    }\n",
       "\n",
       "    .dataframe tbody tr th {\n",
       "        vertical-align: top;\n",
       "    }\n",
       "\n",
       "    .dataframe thead th {\n",
       "        text-align: right;\n",
       "    }\n",
       "</style>\n",
       "<table border=\"1\" class=\"dataframe\">\n",
       "  <thead>\n",
       "    <tr style=\"text-align: right;\">\n",
       "      <th></th>\n",
       "      <th>iso_code</th>\n",
       "      <th>continent</th>\n",
       "      <th>location</th>\n",
       "      <th>date</th>\n",
       "      <th>total_cases</th>\n",
       "      <th>new_cases</th>\n",
       "      <th>new_cases_smoothed</th>\n",
       "      <th>total_deaths</th>\n",
       "      <th>new_deaths</th>\n",
       "      <th>new_deaths_smoothed</th>\n",
       "      <th>...</th>\n",
       "      <th>male_smokers</th>\n",
       "      <th>handwashing_facilities</th>\n",
       "      <th>hospital_beds_per_thousand</th>\n",
       "      <th>life_expectancy</th>\n",
       "      <th>human_development_index</th>\n",
       "      <th>population</th>\n",
       "      <th>excess_mortality_cumulative_absolute</th>\n",
       "      <th>excess_mortality_cumulative</th>\n",
       "      <th>excess_mortality</th>\n",
       "      <th>excess_mortality_cumulative_per_million</th>\n",
       "    </tr>\n",
       "  </thead>\n",
       "  <tbody>\n",
       "    <tr>\n",
       "      <th>44127</th>\n",
       "      <td>CHN</td>\n",
       "      <td>Asia</td>\n",
       "      <td>China</td>\n",
       "      <td>2020-01-22</td>\n",
       "      <td>547.0</td>\n",
       "      <td>NaN</td>\n",
       "      <td>NaN</td>\n",
       "      <td>17.0</td>\n",
       "      <td>NaN</td>\n",
       "      <td>NaN</td>\n",
       "      <td>...</td>\n",
       "      <td>48.4</td>\n",
       "      <td>NaN</td>\n",
       "      <td>4.34</td>\n",
       "      <td>76.91</td>\n",
       "      <td>0.761</td>\n",
       "      <td>1.425887e+09</td>\n",
       "      <td>NaN</td>\n",
       "      <td>NaN</td>\n",
       "      <td>NaN</td>\n",
       "      <td>NaN</td>\n",
       "    </tr>\n",
       "    <tr>\n",
       "      <th>44128</th>\n",
       "      <td>CHN</td>\n",
       "      <td>Asia</td>\n",
       "      <td>China</td>\n",
       "      <td>2020-01-23</td>\n",
       "      <td>639.0</td>\n",
       "      <td>92.0</td>\n",
       "      <td>NaN</td>\n",
       "      <td>18.0</td>\n",
       "      <td>1.0</td>\n",
       "      <td>NaN</td>\n",
       "      <td>...</td>\n",
       "      <td>48.4</td>\n",
       "      <td>NaN</td>\n",
       "      <td>4.34</td>\n",
       "      <td>76.91</td>\n",
       "      <td>0.761</td>\n",
       "      <td>1.425887e+09</td>\n",
       "      <td>NaN</td>\n",
       "      <td>NaN</td>\n",
       "      <td>NaN</td>\n",
       "      <td>NaN</td>\n",
       "    </tr>\n",
       "    <tr>\n",
       "      <th>44129</th>\n",
       "      <td>CHN</td>\n",
       "      <td>Asia</td>\n",
       "      <td>China</td>\n",
       "      <td>2020-01-24</td>\n",
       "      <td>916.0</td>\n",
       "      <td>277.0</td>\n",
       "      <td>NaN</td>\n",
       "      <td>26.0</td>\n",
       "      <td>8.0</td>\n",
       "      <td>NaN</td>\n",
       "      <td>...</td>\n",
       "      <td>48.4</td>\n",
       "      <td>NaN</td>\n",
       "      <td>4.34</td>\n",
       "      <td>76.91</td>\n",
       "      <td>0.761</td>\n",
       "      <td>1.425887e+09</td>\n",
       "      <td>NaN</td>\n",
       "      <td>NaN</td>\n",
       "      <td>NaN</td>\n",
       "      <td>NaN</td>\n",
       "    </tr>\n",
       "    <tr>\n",
       "      <th>44130</th>\n",
       "      <td>CHN</td>\n",
       "      <td>Asia</td>\n",
       "      <td>China</td>\n",
       "      <td>2020-01-25</td>\n",
       "      <td>1399.0</td>\n",
       "      <td>483.0</td>\n",
       "      <td>NaN</td>\n",
       "      <td>42.0</td>\n",
       "      <td>16.0</td>\n",
       "      <td>NaN</td>\n",
       "      <td>...</td>\n",
       "      <td>48.4</td>\n",
       "      <td>NaN</td>\n",
       "      <td>4.34</td>\n",
       "      <td>76.91</td>\n",
       "      <td>0.761</td>\n",
       "      <td>1.425887e+09</td>\n",
       "      <td>NaN</td>\n",
       "      <td>NaN</td>\n",
       "      <td>NaN</td>\n",
       "      <td>NaN</td>\n",
       "    </tr>\n",
       "    <tr>\n",
       "      <th>44131</th>\n",
       "      <td>CHN</td>\n",
       "      <td>Asia</td>\n",
       "      <td>China</td>\n",
       "      <td>2020-01-26</td>\n",
       "      <td>2062.0</td>\n",
       "      <td>663.0</td>\n",
       "      <td>NaN</td>\n",
       "      <td>56.0</td>\n",
       "      <td>14.0</td>\n",
       "      <td>NaN</td>\n",
       "      <td>...</td>\n",
       "      <td>48.4</td>\n",
       "      <td>NaN</td>\n",
       "      <td>4.34</td>\n",
       "      <td>76.91</td>\n",
       "      <td>0.761</td>\n",
       "      <td>1.425887e+09</td>\n",
       "      <td>NaN</td>\n",
       "      <td>NaN</td>\n",
       "      <td>NaN</td>\n",
       "      <td>NaN</td>\n",
       "    </tr>\n",
       "  </tbody>\n",
       "</table>\n",
       "<p>5 rows × 67 columns</p>\n",
       "</div>"
      ],
      "text/plain": [
       "      iso_code continent location        date  total_cases  new_cases  \\\n",
       "44127      CHN      Asia    China  2020-01-22        547.0        NaN   \n",
       "44128      CHN      Asia    China  2020-01-23        639.0       92.0   \n",
       "44129      CHN      Asia    China  2020-01-24        916.0      277.0   \n",
       "44130      CHN      Asia    China  2020-01-25       1399.0      483.0   \n",
       "44131      CHN      Asia    China  2020-01-26       2062.0      663.0   \n",
       "\n",
       "       new_cases_smoothed  total_deaths  new_deaths  new_deaths_smoothed  ...  \\\n",
       "44127                 NaN          17.0         NaN                  NaN  ...   \n",
       "44128                 NaN          18.0         1.0                  NaN  ...   \n",
       "44129                 NaN          26.0         8.0                  NaN  ...   \n",
       "44130                 NaN          42.0        16.0                  NaN  ...   \n",
       "44131                 NaN          56.0        14.0                  NaN  ...   \n",
       "\n",
       "       male_smokers  handwashing_facilities  hospital_beds_per_thousand  \\\n",
       "44127          48.4                     NaN                        4.34   \n",
       "44128          48.4                     NaN                        4.34   \n",
       "44129          48.4                     NaN                        4.34   \n",
       "44130          48.4                     NaN                        4.34   \n",
       "44131          48.4                     NaN                        4.34   \n",
       "\n",
       "       life_expectancy  human_development_index    population  \\\n",
       "44127            76.91                    0.761  1.425887e+09   \n",
       "44128            76.91                    0.761  1.425887e+09   \n",
       "44129            76.91                    0.761  1.425887e+09   \n",
       "44130            76.91                    0.761  1.425887e+09   \n",
       "44131            76.91                    0.761  1.425887e+09   \n",
       "\n",
       "       excess_mortality_cumulative_absolute  excess_mortality_cumulative  \\\n",
       "44127                                   NaN                          NaN   \n",
       "44128                                   NaN                          NaN   \n",
       "44129                                   NaN                          NaN   \n",
       "44130                                   NaN                          NaN   \n",
       "44131                                   NaN                          NaN   \n",
       "\n",
       "       excess_mortality  excess_mortality_cumulative_per_million  \n",
       "44127               NaN                                      NaN  \n",
       "44128               NaN                                      NaN  \n",
       "44129               NaN                                      NaN  \n",
       "44130               NaN                                      NaN  \n",
       "44131               NaN                                      NaN  \n",
       "\n",
       "[5 rows x 67 columns]"
      ]
     },
     "execution_count": 166,
     "metadata": {},
     "output_type": "execute_result"
    }
   ],
   "source": [
    "csv_china = csv.query(\"location == 'China'\")\n",
    "\n",
    "csv_china.head()"
   ]
  },
  {
   "cell_type": "code",
   "execution_count": 167,
   "id": "9c1a66ca",
   "metadata": {},
   "outputs": [
    {
     "name": "stdout",
     "output_type": "stream",
     "text": [
      "<class 'pandas.core.frame.DataFrame'>\n",
      "RangeIndex: 1067 entries, 0 to 1066\n",
      "Data columns (total 5 columns):\n",
      " #   Column        Non-Null Count  Dtype  \n",
      "---  ------        --------------  -----  \n",
      " 0   iso_code      1067 non-null   object \n",
      " 1   location      1067 non-null   object \n",
      " 2   date          1067 non-null   object \n",
      " 3   total_cases   1067 non-null   float64\n",
      " 4   total_deaths  1067 non-null   float64\n",
      "dtypes: float64(2), object(3)\n",
      "memory usage: 41.8+ KB\n"
     ]
    }
   ],
   "source": [
    "result_csv = csv_china[[\"iso_code\", \"location\", \"date\", \"total_cases\", \"total_deaths\"]].reset_index().drop([\"index\"],axis=1)\n",
    "# result_csv.head(10)\n",
    "result_csv.info()"
   ]
  },
  {
   "cell_type": "code",
   "execution_count": 168,
   "id": "7f5d274d",
   "metadata": {},
   "outputs": [
    {
     "name": "stdout",
     "output_type": "stream",
     "text": [
      "<class 'pandas.core.frame.DataFrame'>\n",
      "RangeIndex: 1067 entries, 0 to 1066\n",
      "Data columns (total 8 columns):\n",
      " #   Column        Non-Null Count  Dtype  \n",
      "---  ------        --------------  -----  \n",
      " 0   iso_code      1067 non-null   object \n",
      " 1   location      1067 non-null   object \n",
      " 2   date          1067 non-null   object \n",
      " 3   total_cases   1067 non-null   float64\n",
      " 4   total_deaths  1067 non-null   float64\n",
      " 5   year          1067 non-null   int32  \n",
      " 6   month         1067 non-null   int32  \n",
      " 7   day           1067 non-null   int32  \n",
      "dtypes: float64(2), int32(3), object(3)\n",
      "memory usage: 54.3+ KB\n"
     ]
    }
   ],
   "source": [
    "# 2020-01-27\n",
    "result_csv[\"year\"] = result_csv[\"date\"].map(lambda x: str(x)[0:4]).astype(\"int\")\n",
    "result_csv[\"month\"] = result_csv[\"date\"].map(lambda x: str(x)[5:7]).astype(\"int\")\n",
    "result_csv[\"day\"] = result_csv[\"date\"].map(lambda x: str(x)[8:]).astype(\"int\")\n",
    "\n",
    "result_csv.info()"
   ]
  },
  {
   "cell_type": "code",
   "execution_count": 169,
   "id": "fc18dd69",
   "metadata": {},
   "outputs": [
    {
     "data": {
      "text/html": [
       "<div>\n",
       "<style scoped>\n",
       "    .dataframe tbody tr th:only-of-type {\n",
       "        vertical-align: middle;\n",
       "    }\n",
       "\n",
       "    .dataframe tbody tr th {\n",
       "        vertical-align: top;\n",
       "    }\n",
       "\n",
       "    .dataframe thead th {\n",
       "        text-align: right;\n",
       "    }\n",
       "</style>\n",
       "<table border=\"1\" class=\"dataframe\">\n",
       "  <thead>\n",
       "    <tr style=\"text-align: right;\">\n",
       "      <th></th>\n",
       "      <th>iso_code</th>\n",
       "      <th>location</th>\n",
       "      <th>date</th>\n",
       "      <th>total_cases</th>\n",
       "      <th>total_deaths</th>\n",
       "      <th>year</th>\n",
       "      <th>month</th>\n",
       "      <th>day</th>\n",
       "    </tr>\n",
       "  </thead>\n",
       "  <tbody>\n",
       "    <tr>\n",
       "      <th>0</th>\n",
       "      <td>CHN</td>\n",
       "      <td>China</td>\n",
       "      <td>2020-01-22</td>\n",
       "      <td>547.0</td>\n",
       "      <td>17.0</td>\n",
       "      <td>2020</td>\n",
       "      <td>1</td>\n",
       "      <td>22</td>\n",
       "    </tr>\n",
       "    <tr>\n",
       "      <th>1</th>\n",
       "      <td>CHN</td>\n",
       "      <td>China</td>\n",
       "      <td>2020-01-23</td>\n",
       "      <td>639.0</td>\n",
       "      <td>18.0</td>\n",
       "      <td>2020</td>\n",
       "      <td>1</td>\n",
       "      <td>23</td>\n",
       "    </tr>\n",
       "    <tr>\n",
       "      <th>2</th>\n",
       "      <td>CHN</td>\n",
       "      <td>China</td>\n",
       "      <td>2020-01-24</td>\n",
       "      <td>916.0</td>\n",
       "      <td>26.0</td>\n",
       "      <td>2020</td>\n",
       "      <td>1</td>\n",
       "      <td>24</td>\n",
       "    </tr>\n",
       "    <tr>\n",
       "      <th>3</th>\n",
       "      <td>CHN</td>\n",
       "      <td>China</td>\n",
       "      <td>2020-01-25</td>\n",
       "      <td>1399.0</td>\n",
       "      <td>42.0</td>\n",
       "      <td>2020</td>\n",
       "      <td>1</td>\n",
       "      <td>25</td>\n",
       "    </tr>\n",
       "    <tr>\n",
       "      <th>4</th>\n",
       "      <td>CHN</td>\n",
       "      <td>China</td>\n",
       "      <td>2020-01-26</td>\n",
       "      <td>2062.0</td>\n",
       "      <td>56.0</td>\n",
       "      <td>2020</td>\n",
       "      <td>1</td>\n",
       "      <td>26</td>\n",
       "    </tr>\n",
       "  </tbody>\n",
       "</table>\n",
       "</div>"
      ],
      "text/plain": [
       "  iso_code location        date  total_cases  total_deaths  year  month  day\n",
       "0      CHN    China  2020-01-22        547.0          17.0  2020      1   22\n",
       "1      CHN    China  2020-01-23        639.0          18.0  2020      1   23\n",
       "2      CHN    China  2020-01-24        916.0          26.0  2020      1   24\n",
       "3      CHN    China  2020-01-25       1399.0          42.0  2020      1   25\n",
       "4      CHN    China  2020-01-26       2062.0          56.0  2020      1   26"
      ]
     },
     "execution_count": 169,
     "metadata": {},
     "output_type": "execute_result"
    }
   ],
   "source": [
    "# filter the date\n",
    "result_csv = result_csv.query(\"year != 2022 | month != 11\").query(\"year != 2022 | month != 12\")\n",
    "result_csv.head()"
   ]
  }
 ],
 "metadata": {
  "kernelspec": {
   "display_name": "base",
   "language": "python",
   "name": "python3"
  },
  "language_info": {
   "codemirror_mode": {
    "name": "ipython",
    "version": 3
   },
   "file_extension": ".py",
   "mimetype": "text/x-python",
   "name": "python",
   "nbconvert_exporter": "python",
   "pygments_lexer": "ipython3",
   "version": "3.9.13"
  },
  "vscode": {
   "interpreter": {
    "hash": "49cb93f377a7abe7414b7b0f21fb3017538004a126cf690fb524202736b7fb92"
   }
  }
 },
 "nbformat": 4,
 "nbformat_minor": 5
}
